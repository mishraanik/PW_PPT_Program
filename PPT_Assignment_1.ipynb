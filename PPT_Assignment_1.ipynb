{
  "nbformat": 4,
  "nbformat_minor": 0,
  "metadata": {
    "colab": {
      "provenance": []
    },
    "kernelspec": {
      "name": "python3",
      "display_name": "Python 3"
    },
    "language_info": {
      "name": "python"
    }
  },
  "cells": [
    {
      "cell_type": "markdown",
      "source": [
        "# **Assignment 1 for Lecture 2**"
      ],
      "metadata": {
        "id": "ZEpwHIqMz9By"
      }
    },
    {
      "cell_type": "markdown",
      "source": [
        "**1. Write a Python program to reverse a string without using any built-in string reversal functions.**"
      ],
      "metadata": {
        "id": "9GfGM8l70F27"
      }
    },
    {
      "cell_type": "code",
      "source": [
        "def reverse_string(input_string):\n",
        "    reversed_string = \"\"\n",
        "    for i in range(len(input_string) - 1, -1, -1):\n",
        "        reversed_string += input_string[i]\n",
        "    return reversed_string\n",
        "\n",
        "input_string = input(\"Enter a string: \")\n",
        "reversed_string = reverse_string(input_string)\n",
        "print(\"Reversed string:\", reversed_string)\n"
      ],
      "metadata": {
        "colab": {
          "base_uri": "https://localhost:8080/"
        },
        "id": "Fh1wXhMd0NfZ",
        "outputId": "0073104f-f0e1-4f72-bc54-0c4eea5d628a"
      },
      "execution_count": null,
      "outputs": [
        {
          "output_type": "stream",
          "name": "stdout",
          "text": [
            "Enter a string: abcd\n",
            "Reversed string: dcba\n"
          ]
        }
      ]
    },
    {
      "cell_type": "markdown",
      "source": [
        "**2. Implement a function to check if a given string is a palindrome.**"
      ],
      "metadata": {
        "id": "CqUjXC1S0GDO"
      }
    },
    {
      "cell_type": "code",
      "source": [
        "def is_palindrome(input_string):\n",
        "    # Remove whitespace and convert to lowercase\n",
        "    input_string = input_string.replace(\" \", \"\").lower()\n",
        "    # Check if the string is equal to its reverse\n",
        "    return input_string == input_string[::-1]\n",
        "\n",
        "# Test the function\n",
        "input_string = input(\"Enter a string: \")\n",
        "if is_palindrome(input_string):\n",
        "    print(\"The string is a palindrome.\")\n",
        "else:\n",
        "    print(\"The string is not a palindrome.\")\n"
      ],
      "metadata": {
        "colab": {
          "base_uri": "https://localhost:8080/"
        },
        "id": "cL-7NixP0kap",
        "outputId": "c5f57119-2809-4a75-b455-4555edd46f77"
      },
      "execution_count": null,
      "outputs": [
        {
          "output_type": "stream",
          "name": "stdout",
          "text": [
            "Enter a string: abba\n",
            "The string is a palindrome.\n"
          ]
        }
      ]
    },
    {
      "cell_type": "markdown",
      "source": [
        "**3. Write a program to find the largest element in a given list.**"
      ],
      "metadata": {
        "id": "Bt16AVLv0GF5"
      }
    },
    {
      "cell_type": "code",
      "source": [
        "def find_largest_element(input_list):\n",
        "    if len(input_list) == 0:\n",
        "        return None  # Return None for an empty list\n",
        "    largest = input_list[0]  # Assume the first element is the largest\n",
        "    for num in input_list:\n",
        "        if num > largest:\n",
        "            largest = num\n",
        "    return largest\n",
        "\n",
        "# Test the function\n",
        "numbers = input(\"Enter a list of numbers separated by spaces: \").split()\n",
        "numbers = [int(num) for num in numbers]  # Convert input to a list of integers\n",
        "largest_number = find_largest_element(numbers)\n",
        "print(\"The largest element in the list is:\", largest_number)\n"
      ],
      "metadata": {
        "colab": {
          "base_uri": "https://localhost:8080/"
        },
        "id": "VEhyYea81OUF",
        "outputId": "2e3da13c-722d-4449-b47a-9db0f9b2dac8"
      },
      "execution_count": null,
      "outputs": [
        {
          "output_type": "stream",
          "name": "stdout",
          "text": [
            "Enter a list of numbers separated by spaces: 1 2 3 4 5 6 7 7 8 8 9 9 0\n",
            "The largest element in the list is: 9\n"
          ]
        }
      ]
    },
    {
      "cell_type": "markdown",
      "source": [
        "**4. Implement a function to count the occurrence of each element in a list.**"
      ],
      "metadata": {
        "id": "84vuTmgO0GIh"
      }
    },
    {
      "cell_type": "code",
      "source": [
        "def count_occurrences(input_list):\n",
        "    occurrence_count = {}\n",
        "    for element in input_list:\n",
        "        occurrence_count[element] = occurrence_count.get(element, 0) + 1\n",
        "    return occurrence_count\n",
        "\n",
        "# Test the function\n",
        "elements = input(\"Enter a list of elements separated by spaces: \").split()\n",
        "occurrences = count_occurrences(elements)\n",
        "\n",
        "print(\"Occurrences:\")\n",
        "for element, count in occurrences.items():\n",
        "    print(f\"{element}: {count}\")\n"
      ],
      "metadata": {
        "colab": {
          "base_uri": "https://localhost:8080/"
        },
        "id": "UWaT4FzG1tEJ",
        "outputId": "eba0c245-abee-4145-dabd-b5cf3c76abba"
      },
      "execution_count": null,
      "outputs": [
        {
          "output_type": "stream",
          "name": "stdout",
          "text": [
            "Enter a list of elements separated by spaces: 1 2 3 4 5 6 7 7 8 8 8 8 9 9 9 9 9\n",
            "Occurrences:\n",
            "1: 1\n",
            "2: 1\n",
            "3: 1\n",
            "4: 1\n",
            "5: 1\n",
            "6: 1\n",
            "7: 2\n",
            "8: 4\n",
            "9: 5\n"
          ]
        }
      ]
    },
    {
      "cell_type": "markdown",
      "source": [
        "**5. Write a Python program to find the second largest number in a list.**"
      ],
      "metadata": {
        "id": "l1NyAiAF0GLJ"
      }
    },
    {
      "cell_type": "code",
      "source": [
        "def find_second_largest(input_list):\n",
        "    if len(input_list) < 2:\n",
        "        return None  # Return None for lists with less than two elements\n",
        "\n",
        "    largest = second_largest = float('-inf')\n",
        "\n",
        "    for num in input_list:\n",
        "        if num > largest:\n",
        "            second_largest = largest\n",
        "            largest = num\n",
        "        elif num > second_largest and num < largest:\n",
        "            second_largest = num\n",
        "\n",
        "    return second_largest\n",
        "\n",
        "# Test the function\n",
        "numbers = input(\"Enter a list of numbers separated by spaces: \").split()\n",
        "numbers = [int(num) for num in numbers]  # Convert input to a list of integers\n",
        "\n",
        "second_largest_number = find_second_largest(numbers)\n",
        "if second_largest_number is not None:\n",
        "    print(\"The second largest number in the list is:\", second_largest_number)\n",
        "else:\n",
        "    print(\"The list must contain at least two distinct numbers to find the second largest.\")\n"
      ],
      "metadata": {
        "colab": {
          "base_uri": "https://localhost:8080/"
        },
        "id": "_GfpOE2B1tjn",
        "outputId": "ecbcb221-f775-4ce5-dde2-36a1b220ef79"
      },
      "execution_count": null,
      "outputs": [
        {
          "output_type": "stream",
          "name": "stdout",
          "text": [
            "Enter a list of numbers separated by spaces: 2 4 5 6 7 8 9 10\n",
            "The second largest number in the list is: 9\n"
          ]
        }
      ]
    },
    {
      "cell_type": "markdown",
      "source": [
        "**6. Implement a function to remove duplicate elements from a list.**"
      ],
      "metadata": {
        "id": "1XK982Fq0GNy"
      }
    },
    {
      "cell_type": "code",
      "source": [
        "def remove_duplicates(input_list):\n",
        "    \"\"\"\n",
        "    Removes duplicate elements from a list.\n",
        "\n",
        "    Args:\n",
        "        input_list (list): The input list containing elements.\n",
        "\n",
        "    Returns:\n",
        "        list: A new list with duplicates removed.\n",
        "    \"\"\"\n",
        "    unique_list = []\n",
        "    for item in input_list:\n",
        "        if item not in unique_list:\n",
        "            unique_list.append(item)\n",
        "    return unique_list"
      ],
      "metadata": {
        "id": "RJ5bbSik1uHK"
      },
      "execution_count": null,
      "outputs": []
    },
    {
      "cell_type": "code",
      "source": [
        "my_list = [1, 2, 2, 3, 4, 4, 5]\n",
        "result_list = remove_duplicates(my_list)\n",
        "print(result_list)\n"
      ],
      "metadata": {
        "colab": {
          "base_uri": "https://localhost:8080/"
        },
        "id": "zPgiG--l27xS",
        "outputId": "aa7f04d5-b2f1-4431-d14a-8af262f30630"
      },
      "execution_count": null,
      "outputs": [
        {
          "output_type": "stream",
          "name": "stdout",
          "text": [
            "[1, 2, 3, 4, 5]\n"
          ]
        }
      ]
    },
    {
      "cell_type": "markdown",
      "source": [
        "**7. Write a program to calculate the factorial of a given number.**"
      ],
      "metadata": {
        "id": "58AU9v7u0GQa"
      }
    },
    {
      "cell_type": "code",
      "source": [
        "def factorial(n):\n",
        "    \"\"\"\n",
        "    Calculates the factorial of a given number.\n",
        "\n",
        "    Args:\n",
        "        n (int): The number for which factorial is to be calculated.\n",
        "\n",
        "    Returns:\n",
        "        int: The factorial of the given number.\n",
        "    \"\"\"\n",
        "    if n == 0 or n == 1:\n",
        "        return 1\n",
        "    else:\n",
        "        return n * factorial(n - 1)\n",
        "\n",
        "# Example usage\n",
        "num = 5\n",
        "result = factorial(num)\n",
        "print(f\"The factorial of {num} is: {result}\")"
      ],
      "metadata": {
        "colab": {
          "base_uri": "https://localhost:8080/"
        },
        "id": "LZEGfdjj1um4",
        "outputId": "f3930ff8-bf2f-437f-8559-1aaf6d331bbd"
      },
      "execution_count": null,
      "outputs": [
        {
          "output_type": "stream",
          "name": "stdout",
          "text": [
            "The factorial of 5 is: 120\n"
          ]
        }
      ]
    },
    {
      "cell_type": "markdown",
      "source": [
        "**8. Implement a function to check if a given number is prime.**"
      ],
      "metadata": {
        "id": "L7xdhWVh0GSy"
      }
    },
    {
      "cell_type": "code",
      "source": [
        "def is_prime(number):\n",
        "    \"\"\"\n",
        "    Checks if a given number is prime.\n",
        "\n",
        "    Args:\n",
        "        number (int): The number to be checked.\n",
        "\n",
        "    Returns:\n",
        "        bool: True if the number is prime, False otherwise.\n",
        "    \"\"\"\n",
        "    if number <= 1:\n",
        "        return False\n",
        "\n",
        "    # Check for divisibility by numbers from 2 up to the square root of the number\n",
        "    for i in range(2, int(number**0.5) + 1):\n",
        "        if number % i == 0:\n",
        "            return False\n",
        "\n",
        "    return True\n",
        "\n",
        "# Example usage\n",
        "num = 17\n",
        "if is_prime(num):\n",
        "    print(f\"{num} is a prime number.\")\n",
        "else:\n",
        "    print(f\"{num} is not a prime number.\")\n"
      ],
      "metadata": {
        "colab": {
          "base_uri": "https://localhost:8080/"
        },
        "id": "4XbWNb921vCq",
        "outputId": "91a4c030-b1bf-4d23-90e7-bb041050332c"
      },
      "execution_count": null,
      "outputs": [
        {
          "output_type": "stream",
          "name": "stdout",
          "text": [
            "17 is a prime number.\n"
          ]
        }
      ]
    },
    {
      "cell_type": "markdown",
      "source": [
        "**9. Write a Python program to sort a list of integers in ascending order.**"
      ],
      "metadata": {
        "id": "0-9qHKsD0GVN"
      }
    },
    {
      "cell_type": "code",
      "source": [
        "def sort_list_ascending(input_list):\n",
        "    \"\"\"\n",
        "    Sorts a list of integers in ascending order.\n",
        "\n",
        "    Args:\n",
        "        input_list (list): The input list containing integers.\n",
        "\n",
        "    Returns:\n",
        "        None: The list is sorted in-place.\n",
        "    \"\"\"\n",
        "    input_list.sort()\n",
        "\n",
        "# Example usage\n",
        "my_list = [5, 2, 8, 1, 9, 3]\n",
        "sort_list_ascending(my_list)\n",
        "print(\"Sorted list:\", my_list)\n"
      ],
      "metadata": {
        "colab": {
          "base_uri": "https://localhost:8080/"
        },
        "id": "92cI3MEE4C3W",
        "outputId": "156e19be-fd68-4a99-9303-8b87c518976a"
      },
      "execution_count": null,
      "outputs": [
        {
          "output_type": "stream",
          "name": "stdout",
          "text": [
            "Sorted list: [1, 2, 3, 5, 8, 9]\n"
          ]
        }
      ]
    },
    {
      "cell_type": "markdown",
      "source": [
        "**10. Implement a function to find the sum of all numbers in a list**"
      ],
      "metadata": {
        "id": "MQ877zsM0GXl"
      }
    },
    {
      "cell_type": "code",
      "source": [
        "def calculate_sum(input_list):\n",
        "    \"\"\"\n",
        "    Calculates the sum of all numbers in a list.\n",
        "\n",
        "    Args:\n",
        "        input_list (list): The input list containing numbers.\n",
        "\n",
        "    Returns:\n",
        "        float: The sum of all numbers in the list.\n",
        "    \"\"\"\n",
        "    total_sum = sum(input_list)\n",
        "    return total_sum\n",
        "\n",
        "# Example usage\n",
        "my_list = [1, 2, 3, 4, 5]\n",
        "sum_result = calculate_sum(my_list)\n",
        "print(f\"The sum of all numbers in the list is: {sum_result}\")\n"
      ],
      "metadata": {
        "colab": {
          "base_uri": "https://localhost:8080/"
        },
        "id": "amvgHEkL4FPo",
        "outputId": "a32d9d7e-4412-46a6-c549-39a6dede998b"
      },
      "execution_count": null,
      "outputs": [
        {
          "output_type": "stream",
          "name": "stdout",
          "text": [
            "The sum of all numbers in the list is: 15\n"
          ]
        }
      ]
    },
    {
      "cell_type": "markdown",
      "source": [
        "**11. Write a program to find the common elements between two lists.**"
      ],
      "metadata": {
        "id": "qhsx445O0GZ8"
      }
    },
    {
      "cell_type": "code",
      "source": [
        "def find_common_elements(list1, list2):\n",
        "    \"\"\"\n",
        "    Finds the common elements between two lists.\n",
        "\n",
        "    Args:\n",
        "        list1 (list): The first input list.\n",
        "        list2 (list): The second input list.\n",
        "\n",
        "    Returns:\n",
        "        list: A new list containing the common elements.\n",
        "    \"\"\"\n",
        "    common_elements = set(list1) & set(list2)\n",
        "    return list(common_elements)\n",
        "\n",
        "# Example usage\n",
        "list1 = [1, 2, 3, 4, 5]\n",
        "list2 = [3, 4, 5, 6, 7]\n",
        "common_elements = find_common_elements(list1, list2)\n",
        "print(\"Common elements:\", common_elements)"
      ],
      "metadata": {
        "colab": {
          "base_uri": "https://localhost:8080/"
        },
        "id": "H3BDZCWq4mev",
        "outputId": "7a0b0f32-460f-4df1-b97c-87084e65e3ee"
      },
      "execution_count": null,
      "outputs": [
        {
          "output_type": "stream",
          "name": "stdout",
          "text": [
            "Common elements: [3, 4, 5]\n"
          ]
        }
      ]
    },
    {
      "cell_type": "markdown",
      "source": [
        "**12. Implement a function to check if a given string is an anagram of another string.**"
      ],
      "metadata": {
        "id": "Nt3ADzTw0Gcb"
      }
    },
    {
      "cell_type": "code",
      "source": [
        "def is_anagram(str1, str2):\n",
        "    \"\"\"\n",
        "    Checks if a given string is an anagram of another string.\n",
        "\n",
        "    Args:\n",
        "        str1 (str): The first input string.\n",
        "        str2 (str): The second input string.\n",
        "\n",
        "    Returns:\n",
        "        bool: True if the strings are anagrams, False otherwise.\n",
        "    \"\"\"\n",
        "    # Convert both strings to lowercase and remove spaces\n",
        "    str1 = str1.lower().replace(\" \", \"\")\n",
        "    str2 = str2.lower().replace(\" \", \"\")\n",
        "\n",
        "    # Sort the characters in both strings\n",
        "    sorted_str1 = sorted(str1)\n",
        "    sorted_str2 = sorted(str2)\n",
        "\n",
        "    # Check if the sorted strings are equal\n",
        "    if sorted_str1 == sorted_str2:\n",
        "        return True\n",
        "    else:\n",
        "        return False\n",
        "\n",
        "# Example usage\n",
        "string1 = \"listen\"\n",
        "string2 = \"silent\"\n",
        "if is_anagram(string1, string2):\n",
        "    print(f\"{string1} and {string2} are anagrams.\")\n",
        "else:\n",
        "    print(f\"{string1} and {string2} are not anagrams.\")\n"
      ],
      "metadata": {
        "colab": {
          "base_uri": "https://localhost:8080/"
        },
        "id": "hL-qPNQA4o5O",
        "outputId": "9d994039-cae0-41c5-916b-0ca115e9a8f0"
      },
      "execution_count": null,
      "outputs": [
        {
          "output_type": "stream",
          "name": "stdout",
          "text": [
            "listen and silent are anagrams.\n"
          ]
        }
      ]
    },
    {
      "cell_type": "markdown",
      "source": [
        "**13. Write a Python program to generate all permutations of a given string.**"
      ],
      "metadata": {
        "id": "MWd-d6Gi0Gk5"
      }
    },
    {
      "cell_type": "code",
      "source": [
        "def permute_string(string):\n",
        "    \"\"\"\n",
        "    Generates all permutations of a given string.\n",
        "\n",
        "    Args:\n",
        "        string (str): The input string.\n",
        "\n",
        "    Returns:\n",
        "        list: A list of all permutations of the string.\n",
        "    \"\"\"\n",
        "    # Base case: If the string has only one character, return it\n",
        "    if len(string) == 1:\n",
        "        return [string]\n",
        "\n",
        "    # Recursive step: Generate permutations for each character in the string\n",
        "    permutations = []\n",
        "    for i in range(len(string)):\n",
        "        char = string[i]\n",
        "\n",
        "        # Generate all permutations of the remaining characters\n",
        "        remaining_chars = string[:i] + string[i+1:]\n",
        "        sub_permutations = permute_string(remaining_chars)\n",
        "\n",
        "        # Add the current character to each permutation of the remaining characters\n",
        "        for sub_permutation in sub_permutations:\n",
        "            permutations.append(char + sub_permutation)\n",
        "\n",
        "    return permutations\n",
        "\n",
        "# Example usage\n",
        "input_string = \"abc\"\n",
        "permutations = permute_string(input_string)\n",
        "print(\"All permutations:\")\n",
        "for permutation in permutations:\n",
        "    print(permutation)\n"
      ],
      "metadata": {
        "colab": {
          "base_uri": "https://localhost:8080/"
        },
        "id": "HgOSHxrP4ph2",
        "outputId": "10653021-92ca-41da-a1a3-065bd6d9a963"
      },
      "execution_count": null,
      "outputs": [
        {
          "output_type": "stream",
          "name": "stdout",
          "text": [
            "All permutations:\n",
            "abc\n",
            "acb\n",
            "bac\n",
            "bca\n",
            "cab\n",
            "cba\n"
          ]
        }
      ]
    },
    {
      "cell_type": "markdown",
      "source": [
        "**14. Implement a function to calculate the Fibonacci sequence up to a given number of terms.**"
      ],
      "metadata": {
        "id": "HEYQpcy90GnB"
      }
    },
    {
      "cell_type": "code",
      "source": [
        "def fibonacci_sequence(num_terms):\n",
        "    \"\"\"\n",
        "    Calculates the Fibonacci sequence up to a given number of terms.\n",
        "\n",
        "    Args:\n",
        "        num_terms (int): The number of terms to generate.\n",
        "\n",
        "    Returns:\n",
        "        list: A list containing the Fibonacci sequence.\n",
        "    \"\"\"\n",
        "    sequence = []\n",
        "    a, b = 0, 1\n",
        "\n",
        "    while len(sequence) < num_terms:\n",
        "        sequence.append(a)\n",
        "        a, b = b, a + b\n",
        "\n",
        "    return sequence\n",
        "\n",
        "# Example usage\n",
        "num_terms = 10\n",
        "fib_sequence = fibonacci_sequence(num_terms)\n",
        "print(\"Fibonacci sequence up to\", num_terms, \"terms:\", fib_sequence)\n"
      ],
      "metadata": {
        "colab": {
          "base_uri": "https://localhost:8080/"
        },
        "id": "8LMCakUj4qAa",
        "outputId": "89d4ee50-9b39-4533-af0a-a0d23b162204"
      },
      "execution_count": null,
      "outputs": [
        {
          "output_type": "stream",
          "name": "stdout",
          "text": [
            "Fibonacci sequence up to 10 terms: [0, 1, 1, 2, 3, 5, 8, 13, 21, 34]\n"
          ]
        }
      ]
    },
    {
      "cell_type": "markdown",
      "source": [
        "**15. Write a program to find the median of a list of numbers.**"
      ],
      "metadata": {
        "id": "98-k5sXF5qA1"
      }
    },
    {
      "cell_type": "code",
      "source": [
        "def find_median(numbers):\n",
        "    \"\"\"\n",
        "    Finds the median of a list of numbers.\n",
        "\n",
        "    Args:\n",
        "        numbers (list): The input list of numbers.\n",
        "\n",
        "    Returns:\n",
        "        float: The median value.\n",
        "    \"\"\"\n",
        "    sorted_numbers = sorted(numbers)\n",
        "    length = len(sorted_numbers)\n",
        "\n",
        "    if length % 2 == 0:\n",
        "        # If the list has an even number of elements, take the average of the middle two numbers\n",
        "        mid_index1 = length // 2\n",
        "        mid_index2 = mid_index1 - 1\n",
        "        median = (sorted_numbers[mid_index1] + sorted_numbers[mid_index2]) / 2\n",
        "    else:\n",
        "        # If the list has an odd number of elements, take the middle number as the median\n",
        "        mid_index = length // 2\n",
        "        median = sorted_numbers[mid_index]\n",
        "\n",
        "    return median\n",
        "\n",
        "# Example usage\n",
        "my_numbers = [5, 2, 8, 1, 9, 3]\n",
        "median_value = find_median(my_numbers)\n",
        "print(\"Median:\", median_value)\n"
      ],
      "metadata": {
        "colab": {
          "base_uri": "https://localhost:8080/"
        },
        "id": "19Y_GIFQ59T2",
        "outputId": "7cbb07cc-1a81-4f5e-a005-e5494e66f6b8"
      },
      "execution_count": null,
      "outputs": [
        {
          "output_type": "stream",
          "name": "stdout",
          "text": [
            "Median: 4.0\n"
          ]
        }
      ]
    },
    {
      "cell_type": "markdown",
      "source": [
        "**16. Implement a function to check if a given list is sorted in non-decreasing order.**"
      ],
      "metadata": {
        "id": "ZS6sEZj15qE5"
      }
    },
    {
      "cell_type": "code",
      "source": [
        "def is_sorted(lst):\n",
        "    \"\"\"\n",
        "    Checks if a given list is sorted in non-decreasing order.\n",
        "\n",
        "    Args:\n",
        "        lst (list): The input list.\n",
        "\n",
        "    Returns:\n",
        "        bool: True if the list is sorted in non-decreasing order, False otherwise.\n",
        "    \"\"\"\n",
        "    return all(lst[i] <= lst[i+1] for i in range(len(lst)-1))\n",
        "\n",
        "# Example usage\n",
        "my_list = [1, 2, 3, 4, 5]\n",
        "if is_sorted(my_list):\n",
        "    print(\"The list is sorted in non-decreasing order.\")\n",
        "else:\n",
        "    print(\"The list is not sorted in non-decreasing order.\")\n"
      ],
      "metadata": {
        "colab": {
          "base_uri": "https://localhost:8080/"
        },
        "id": "5Ohr-hQ16LKM",
        "outputId": "a8b4c266-6773-46e8-aca2-0adb111b2411"
      },
      "execution_count": null,
      "outputs": [
        {
          "output_type": "stream",
          "name": "stdout",
          "text": [
            "The list is sorted in non-decreasing order.\n"
          ]
        }
      ]
    },
    {
      "cell_type": "markdown",
      "source": [
        "**17. Write a Python program to find the intersection of two lists.**"
      ],
      "metadata": {
        "id": "6kE8hQ_-5qH4"
      }
    },
    {
      "cell_type": "code",
      "source": [
        "def find_intersection(list1, list2):\n",
        "    \"\"\"\n",
        "    Finds the intersection of two lists.\n",
        "\n",
        "    Args:\n",
        "        list1 (list): The first input list.\n",
        "        list2 (list): The second input list.\n",
        "\n",
        "    Returns:\n",
        "        list: A new list containing the common elements between both lists.\n",
        "    \"\"\"\n",
        "    intersection = list(set(list1) & set(list2))\n",
        "    return intersection\n",
        "\n",
        "# Example usage\n",
        "list1 = [1, 2, 3, 4, 5]\n",
        "list2 = [3, 4, 5, 6, 7]\n",
        "common_elements = find_intersection(list1, list2)\n",
        "print(\"Intersection of the two lists:\", common_elements)\n"
      ],
      "metadata": {
        "colab": {
          "base_uri": "https://localhost:8080/"
        },
        "id": "wVJ4GgVk6Ore",
        "outputId": "c20e11d3-628b-493d-8d15-bfb2f528bac3"
      },
      "execution_count": null,
      "outputs": [
        {
          "output_type": "stream",
          "name": "stdout",
          "text": [
            "Intersection of the two lists: [3, 4, 5]\n"
          ]
        }
      ]
    },
    {
      "cell_type": "markdown",
      "source": [
        "**18. Implement a function to find the maximum subarray sum in a given list**"
      ],
      "metadata": {
        "id": "B4LMv1Ta5qLB"
      }
    },
    {
      "cell_type": "code",
      "source": [
        "def max_subarray_sum(lst):\n",
        "    \"\"\"\n",
        "    Finds the maximum subarray sum in a given list.\n",
        "\n",
        "    Args:\n",
        "        lst (list): The input list of numbers.\n",
        "\n",
        "    Returns:\n",
        "        int: The maximum subarray sum.\n",
        "    \"\"\"\n",
        "    max_sum = float('-inf')\n",
        "    current_sum = 0\n",
        "\n",
        "    for num in lst:\n",
        "        current_sum = max(num, current_sum + num)\n",
        "        max_sum = max(max_sum, current_sum)\n",
        "\n",
        "    return max_sum\n",
        "\n",
        "# Example usage\n",
        "my_list = [-2, 1, -3, 4, -1, 2, 1, -5, 4]\n",
        "result = max_subarray_sum(my_list)\n",
        "print(\"Maximum subarray sum:\", result)\n"
      ],
      "metadata": {
        "colab": {
          "base_uri": "https://localhost:8080/"
        },
        "id": "F8VgyQU76dm0",
        "outputId": "c03f76cf-a846-43a2-ba4f-ce474b59bcf8"
      },
      "execution_count": null,
      "outputs": [
        {
          "output_type": "stream",
          "name": "stdout",
          "text": [
            "Maximum subarray sum: 6\n"
          ]
        }
      ]
    },
    {
      "cell_type": "markdown",
      "source": [
        "**19. Write a program to remove all vowels from a given string.**"
      ],
      "metadata": {
        "id": "7dIXu5Jt5qNx"
      }
    },
    {
      "cell_type": "code",
      "source": [
        "def remove_vowels(string):\n",
        "    \"\"\"\n",
        "    Removes all vowels from a given string.\n",
        "\n",
        "    Args:\n",
        "        string (str): The input string.\n",
        "\n",
        "    Returns:\n",
        "        str: The string with vowels removed.\n",
        "    \"\"\"\n",
        "    vowels = \"aeiouAEIOU\"\n",
        "    result = \"\"\n",
        "\n",
        "    for char in string:\n",
        "        if char not in vowels:\n",
        "            result += char\n",
        "\n",
        "    return result\n",
        "\n",
        "# Example usage\n",
        "input_string = \"Hello, World!\"\n",
        "result_string = remove_vowels(input_string)\n",
        "print(\"String with vowels removed:\", result_string)"
      ],
      "metadata": {
        "colab": {
          "base_uri": "https://localhost:8080/"
        },
        "id": "EWpYxh136lb9",
        "outputId": "f09e84bd-e3c9-42e6-ecb3-e5f3b7802eea"
      },
      "execution_count": null,
      "outputs": [
        {
          "output_type": "stream",
          "name": "stdout",
          "text": [
            "String with vowels removed: Hll, Wrld!\n"
          ]
        }
      ]
    },
    {
      "cell_type": "markdown",
      "source": [
        "**20. Implement a function to reverse the order of words in a given sentence.**"
      ],
      "metadata": {
        "id": "iaDFsbmQ5qSw"
      }
    },
    {
      "cell_type": "code",
      "source": [
        "def reverse_sentence(sentence):\n",
        "    \"\"\"\n",
        "    Reverses the order of words in a given sentence.\n",
        "\n",
        "    Args:\n",
        "        sentence (str): The input sentence.\n",
        "\n",
        "    Returns:\n",
        "        str: The sentence with the order of words reversed.\n",
        "    \"\"\"\n",
        "    words = sentence.split()\n",
        "    reversed_words = words[::-1]\n",
        "    reversed_sentence = \" \".join(reversed_words)\n",
        "\n",
        "    return reversed_sentence\n",
        "\n",
        "# Example usage\n",
        "input_sentence = \"Hello, world! How are you?\"\n",
        "reversed_sentence = reverse_sentence(input_sentence)\n",
        "print(\"Reversed sentence:\", reversed_sentence)\n"
      ],
      "metadata": {
        "colab": {
          "base_uri": "https://localhost:8080/"
        },
        "id": "ImGSYYhY69Km",
        "outputId": "3f769aa0-4a5d-4e7b-8f41-437126910873"
      },
      "execution_count": null,
      "outputs": [
        {
          "output_type": "stream",
          "name": "stdout",
          "text": [
            "Reversed sentence: you? are How world! Hello,\n"
          ]
        }
      ]
    },
    {
      "cell_type": "markdown",
      "source": [
        "**21. Write a Python program to check if two strings are anagrams of each other.**"
      ],
      "metadata": {
        "id": "aNgSdyBm5qUm"
      }
    },
    {
      "cell_type": "code",
      "source": [
        "def are_anagrams(string1, string2):\n",
        "    \"\"\"\n",
        "    Checks if two strings are anagrams of each other.\n",
        "\n",
        "    Args:\n",
        "        string1 (str): The first input string.\n",
        "        string2 (str): The second input string.\n",
        "\n",
        "    Returns:\n",
        "        bool: True if the strings are anagrams, False otherwise.\n",
        "    \"\"\"\n",
        "    # Convert strings to lowercase and remove whitespace\n",
        "    string1 = string1.lower().replace(\" \", \"\")\n",
        "    string2 = string2.lower().replace(\" \", \"\")\n",
        "\n",
        "    # Check if the sorted characters of both strings are the same\n",
        "    return sorted(string1) == sorted(string2)\n",
        "\n",
        "# Example usage\n",
        "string1 = \"listen\"\n",
        "string2 = \"silent\"\n",
        "if are_anagrams(string1, string2):\n",
        "    print(\"The strings are anagrams.\")\n",
        "else:\n",
        "    print(\"The strings are not anagrams.\")\n"
      ],
      "metadata": {
        "colab": {
          "base_uri": "https://localhost:8080/"
        },
        "id": "TsIi6ZNJ7M11",
        "outputId": "a53cdaa8-1471-427c-9e81-8f5b0b083c43"
      },
      "execution_count": null,
      "outputs": [
        {
          "output_type": "stream",
          "name": "stdout",
          "text": [
            "The strings are anagrams.\n"
          ]
        }
      ]
    },
    {
      "cell_type": "markdown",
      "source": [
        "**22. Implement a function to find the first non-repeating character in a string.**"
      ],
      "metadata": {
        "id": "Jfy21K9Z5qnO"
      }
    },
    {
      "cell_type": "code",
      "source": [
        "def find_first_non_repeating_char(string):\n",
        "    \"\"\"\n",
        "    Finds the first non-repeating character in a given string.\n",
        "\n",
        "    Args:\n",
        "        string (str): The input string.\n",
        "\n",
        "    Returns:\n",
        "        str: The first non-repeating character, or None if no such character is found.\n",
        "    \"\"\"\n",
        "    char_count = {}\n",
        "\n",
        "    # Count the occurrences of each character in the string\n",
        "    for char in string:\n",
        "        char_count[char] = char_count.get(char, 0) + 1\n",
        "\n",
        "    # Find the first character with count 1\n",
        "    for char in string:\n",
        "        if char_count[char] == 1:\n",
        "            return char\n",
        "\n",
        "    return None\n",
        "\n",
        "# Example usage\n",
        "input_string = \"abbcadde\"\n",
        "result = find_first_non_repeating_char(input_string)\n",
        "if result:\n",
        "    print(\"First non-repeating character:\", result)\n",
        "else:\n",
        "    print(\"No non-repeating character found.\")\n"
      ],
      "metadata": {
        "colab": {
          "base_uri": "https://localhost:8080/"
        },
        "id": "Gy7W8ec37WfV",
        "outputId": "6d2dcbe9-fab6-4b75-ee4e-bc1079530dc4"
      },
      "execution_count": null,
      "outputs": [
        {
          "output_type": "stream",
          "name": "stdout",
          "text": [
            "First non-repeating character: c\n"
          ]
        }
      ]
    },
    {
      "cell_type": "markdown",
      "source": [
        "**23. Write a program to find the prime factors of a given number.**"
      ],
      "metadata": {
        "id": "bUiufA9w5qr9"
      }
    },
    {
      "cell_type": "code",
      "source": [
        "def find_prime_factors(number):\n",
        "    \"\"\"\n",
        "    Finds the prime factors of a given number.\n",
        "\n",
        "    Args:\n",
        "        number (int): The input number.\n",
        "\n",
        "    Returns:\n",
        "        list: A list of prime factors.\n",
        "    \"\"\"\n",
        "    factors = []\n",
        "    divisor = 2\n",
        "\n",
        "    while divisor <= number:\n",
        "        if number % divisor == 0:\n",
        "            factors.append(divisor)\n",
        "            number //= divisor\n",
        "        else:\n",
        "            divisor += 1\n",
        "\n",
        "    return factors\n",
        "\n",
        "# Example usage\n",
        "input_number = 84\n",
        "prime_factors = find_prime_factors(input_number)\n",
        "print(\"Prime factors of\", input_number, \":\", prime_factors)\n"
      ],
      "metadata": {
        "colab": {
          "base_uri": "https://localhost:8080/"
        },
        "id": "wfu-EnnI7Wgj",
        "outputId": "07d5214f-d13c-4b09-87ca-fb7a895c0b7a"
      },
      "execution_count": null,
      "outputs": [
        {
          "output_type": "stream",
          "name": "stdout",
          "text": [
            "Prime factors of 84 : [2, 2, 3, 7]\n"
          ]
        }
      ]
    },
    {
      "cell_type": "markdown",
      "source": [
        "**24. Implement a function to check if a given number is a power of two.**"
      ],
      "metadata": {
        "id": "TGlwYm1b5qul"
      }
    },
    {
      "cell_type": "code",
      "source": [
        "def is_power_of_two(number):\n",
        "    \"\"\"\n",
        "    Checks if a given number is a power of two.\n",
        "\n",
        "    Args:\n",
        "        number (int): The input number.\n",
        "\n",
        "    Returns:\n",
        "        bool: True if the number is a power of two, False otherwise.\n",
        "    \"\"\"\n",
        "    if number <= 0:\n",
        "        return False\n",
        "\n",
        "    return (number & (number - 1)) == 0\n",
        "\n",
        "# Example usage\n",
        "input_number = 16\n",
        "if is_power_of_two(input_number):\n",
        "    print(input_number, \"is a power of two.\")\n",
        "else:\n",
        "    print(input_number, \"is not a power of two.\")\n"
      ],
      "metadata": {
        "colab": {
          "base_uri": "https://localhost:8080/"
        },
        "id": "YSJoRq9273zX",
        "outputId": "4632cb11-562b-4d56-decb-a79cb56c29e0"
      },
      "execution_count": null,
      "outputs": [
        {
          "output_type": "stream",
          "name": "stdout",
          "text": [
            "16 is a power of two.\n"
          ]
        }
      ]
    },
    {
      "cell_type": "markdown",
      "source": [
        "**25. Write a Python program to merge two sorted lists into a single sorted list.**"
      ],
      "metadata": {
        "id": "JoEtOsQw5qxJ"
      }
    },
    {
      "cell_type": "code",
      "source": [
        "def merge_sorted_lists(list1, list2):\n",
        "    \"\"\"\n",
        "    Merges two sorted lists into a single sorted list.\n",
        "\n",
        "    Args:\n",
        "        list1 (list): The first sorted list.\n",
        "        list2 (list): The second sorted list.\n",
        "\n",
        "    Returns:\n",
        "        list: The merged sorted list.\n",
        "    \"\"\"\n",
        "    merged_list = []\n",
        "    i = j = 0\n",
        "\n",
        "    while i < len(list1) and j < len(list2):\n",
        "        if list1[i] <= list2[j]:\n",
        "            merged_list.append(list1[i])\n",
        "            i += 1\n",
        "        else:\n",
        "            merged_list.append(list2[j])\n",
        "            j += 1\n",
        "\n",
        "    while i < len(list1):\n",
        "        merged_list.append(list1[i])\n",
        "        i += 1\n",
        "\n",
        "    while j < len(list2):\n",
        "        merged_list.append(list2[j])\n",
        "        j += 1\n",
        "\n",
        "    return merged_list\n",
        "\n",
        "# Example usage\n",
        "list1 = [1, 3, 5, 7]\n",
        "list2 = [2, 4, 6, 8]\n",
        "merged_list = merge_sorted_lists(list1, list2)\n",
        "print(\"Merged sorted list:\", merged_list)\n"
      ],
      "metadata": {
        "colab": {
          "base_uri": "https://localhost:8080/"
        },
        "id": "luHV8rhVBH4Y",
        "outputId": "89e6c344-2109-4cfc-bf7e-b9e686dc8229"
      },
      "execution_count": null,
      "outputs": [
        {
          "output_type": "stream",
          "name": "stdout",
          "text": [
            "Merged sorted list: [1, 2, 3, 4, 5, 6, 7, 8]\n"
          ]
        }
      ]
    },
    {
      "cell_type": "markdown",
      "source": [
        "**26. Implement a function to find the mode of a list of numbers.**"
      ],
      "metadata": {
        "id": "vSFLQxAOBrWh"
      }
    },
    {
      "cell_type": "code",
      "source": [
        "from collections import Counter\n",
        "\n",
        "def find_mode(numbers):\n",
        "    \"\"\"\n",
        "    Finds the mode of a list of numbers.\n",
        "\n",
        "    Args:\n",
        "        numbers (list): The input list of numbers.\n",
        "\n",
        "    Returns:\n",
        "        list: A list of mode(s). If multiple modes exist, all are returned.\n",
        "    \"\"\"\n",
        "    count = Counter(numbers)\n",
        "    max_count = max(count.values())\n",
        "    modes = [num for num, freq in count.items() if freq == max_count]\n",
        "\n",
        "    return modes\n",
        "\n",
        "# Example usage\n",
        "number_list = [1, 2, 3, 3, 4, 4, 4, 5, 5]\n",
        "modes = find_mode(number_list)\n",
        "print(\"Mode(s):\", modes)\n"
      ],
      "metadata": {
        "colab": {
          "base_uri": "https://localhost:8080/"
        },
        "id": "50xJojPoDojg",
        "outputId": "65a23f99-6efb-4729-cd0b-0d3d86c859d0"
      },
      "execution_count": null,
      "outputs": [
        {
          "output_type": "stream",
          "name": "stdout",
          "text": [
            "Mode(s): [4]\n"
          ]
        }
      ]
    },
    {
      "cell_type": "markdown",
      "source": [
        "**27. Write a program to find the greatest common divisor (GCD) of two numbers.**"
      ],
      "metadata": {
        "id": "N3qPKiC0BrZM"
      }
    },
    {
      "cell_type": "code",
      "source": [
        "def find_gcd(a, b):\n",
        "    \"\"\"\n",
        "    Finds the greatest common divisor (GCD) of two numbers.\n",
        "\n",
        "    Args:\n",
        "        a (int): The first number.\n",
        "        b (int): The second number.\n",
        "\n",
        "    Returns:\n",
        "        int: The GCD of the two numbers.\n",
        "    \"\"\"\n",
        "    while b != 0:\n",
        "        a, b = b, a % b\n",
        "\n",
        "    return a\n",
        "\n",
        "# Example usage\n",
        "num1 = 24\n",
        "num2 = 36\n",
        "gcd = find_gcd(num1, num2)\n",
        "print(\"GCD of\", num1, \"and\", num2, \"is:\", gcd)\n"
      ],
      "metadata": {
        "colab": {
          "base_uri": "https://localhost:8080/"
        },
        "id": "51eVBRG7E2X4",
        "outputId": "6231f289-e792-4625-eb0d-09a59f0c53f8"
      },
      "execution_count": null,
      "outputs": [
        {
          "output_type": "stream",
          "name": "stdout",
          "text": [
            "GCD of 24 and 36 is: 12\n"
          ]
        }
      ]
    },
    {
      "cell_type": "markdown",
      "source": [
        "**28. Implement a function to calculate the square root of a given number.**"
      ],
      "metadata": {
        "id": "HD3NDXxPBrcJ"
      }
    },
    {
      "cell_type": "code",
      "source": [
        "import math\n",
        "\n",
        "def calculate_square_root(number):\n",
        "    \"\"\"\n",
        "    Calculates the square root of a given number.\n",
        "\n",
        "    Args:\n",
        "        number (float): The input number.\n",
        "\n",
        "    Returns:\n",
        "        float: The square root of the number.\n",
        "    \"\"\"\n",
        "    if number < 0:\n",
        "        raise ValueError(\"Cannot calculate square root of a negative number.\")\n",
        "\n",
        "    return math.sqrt(number)\n",
        "\n",
        "# Example usage\n",
        "input_number = 16\n",
        "sqrt = calculate_square_root(input_number)\n",
        "print(\"Square root of\", input_number, \":\", sqrt)\n"
      ],
      "metadata": {
        "colab": {
          "base_uri": "https://localhost:8080/"
        },
        "id": "_Bf1OwXhFHeX",
        "outputId": "f82b8293-218a-4c51-b131-63f0a3b84bc9"
      },
      "execution_count": null,
      "outputs": [
        {
          "output_type": "stream",
          "name": "stdout",
          "text": [
            "Square root of 16 : 4.0\n"
          ]
        }
      ]
    },
    {
      "cell_type": "markdown",
      "source": [
        "**29. Write a Python program to check if a given string is a valid palindrome ignoring non-alphanumeric characters.**"
      ],
      "metadata": {
        "id": "SmLoQMuPBrh6"
      }
    },
    {
      "cell_type": "code",
      "source": [
        "import re\n",
        "\n",
        "def is_valid_palindrome(string):\n",
        "    \"\"\"\n",
        "    Checks if a given string is a valid palindrome, ignoring non-alphanumeric characters.\n",
        "\n",
        "    Args:\n",
        "        string (str): The input string.\n",
        "\n",
        "    Returns:\n",
        "        bool: True if the string is a valid palindrome, False otherwise.\n",
        "    \"\"\"\n",
        "    # Remove non-alphanumeric characters and convert to lowercase\n",
        "    cleaned_string = re.sub(r'[^a-zA-Z0-9]', '', string.lower())\n",
        "\n",
        "    # Check if the cleaned string is equal to its reverse\n",
        "    return cleaned_string == cleaned_string[::-1]\n",
        "\n",
        "# Example usage\n",
        "input_string = \"A man, a plan, a canal: Panama\"\n",
        "if is_valid_palindrome(input_string):\n",
        "    print(\"The string is a valid palindrome.\")\n",
        "else:\n",
        "    print(\"The string is not a valid palindrome.\")\n"
      ],
      "metadata": {
        "colab": {
          "base_uri": "https://localhost:8080/"
        },
        "id": "aHiU6vo8GLB_",
        "outputId": "9ebb225c-8bb2-4b55-8e0c-79c8cea99e4c"
      },
      "execution_count": null,
      "outputs": [
        {
          "output_type": "stream",
          "name": "stdout",
          "text": [
            "The string is a valid palindrome.\n"
          ]
        }
      ]
    },
    {
      "cell_type": "markdown",
      "source": [
        "**30. Implement a function to find the minimum element in a rotated sorted list.**"
      ],
      "metadata": {
        "id": "9E0RZ_oiBrke"
      }
    },
    {
      "cell_type": "code",
      "source": [
        "def find_minimum(nums):\n",
        "    left = 0\n",
        "    right = len(nums) - 1\n",
        "\n",
        "    while left < right:\n",
        "        mid = left + (right - left) // 2\n",
        "\n",
        "        if nums[mid] > nums[right]:\n",
        "            # The minimum element is in the right half\n",
        "            left = mid + 1\n",
        "        else:\n",
        "            # The minimum element is in the left half or is the current element\n",
        "            right = mid\n",
        "\n",
        "    # At the end of the loop, left and right will point to the minimum element\n",
        "    return nums[left]\n"
      ],
      "metadata": {
        "id": "lkEb1215Jq7J"
      },
      "execution_count": 1,
      "outputs": []
    },
    {
      "cell_type": "markdown",
      "source": [
        "**31. Write a program to find the sum of all even numbers in a list.**"
      ],
      "metadata": {
        "id": "O5CXc-DiBrmw"
      }
    },
    {
      "cell_type": "code",
      "source": [
        "def sum_of_even_numbers(numbers):\n",
        "    even_sum = 0\n",
        "    for num in numbers:\n",
        "        if num % 2 == 0:\n",
        "            even_sum += num\n",
        "    return even_sum\n",
        "\n",
        "# Example usage\n",
        "my_list = [1, 2, 3, 4, 5, 6, 7, 8, 9, 10]\n",
        "result = sum_of_even_numbers(my_list)\n",
        "print(\"Sum of even numbers:\", result)\n"
      ],
      "metadata": {
        "colab": {
          "base_uri": "https://localhost:8080/"
        },
        "id": "uOm8qBE7J6Zl",
        "outputId": "81a2292e-0edd-4a9b-f83e-92a5d7d31140"
      },
      "execution_count": 2,
      "outputs": [
        {
          "output_type": "stream",
          "name": "stdout",
          "text": [
            "Sum of even numbers: 30\n"
          ]
        }
      ]
    },
    {
      "cell_type": "markdown",
      "source": [
        "**32. Implement a function to calculate the power of a number using recursion.**"
      ],
      "metadata": {
        "id": "fD-IUFWOBrpm"
      }
    },
    {
      "cell_type": "code",
      "source": [
        "def power(base, exponent):\n",
        "    if exponent == 0:\n",
        "        return 1\n",
        "    elif exponent > 0:\n",
        "        return base * power(base, exponent - 1)\n",
        "    else:\n",
        "        return 1 / base * power(base, exponent + 1)\n"
      ],
      "metadata": {
        "id": "5j24-m-VKJEK"
      },
      "execution_count": 3,
      "outputs": []
    },
    {
      "cell_type": "markdown",
      "source": [
        "**33. Write a Python program to remove duplicates from a list while preserving the order.**"
      ],
      "metadata": {
        "id": "nHb4L-fnBrrz"
      }
    },
    {
      "cell_type": "code",
      "source": [
        "def remove_duplicates(lst):\n",
        "    seen = set()\n",
        "    return [x for x in lst if not (x in seen or seen.add(x))]\n",
        "\n",
        "# Example usage\n",
        "my_list = [3, 2, 1, 2, 4, 3, 5, 6, 5, 4, 7]\n",
        "result = remove_duplicates(my_list)\n",
        "print(\"List with duplicates removed:\", result)\n"
      ],
      "metadata": {
        "colab": {
          "base_uri": "https://localhost:8080/"
        },
        "id": "hgQ_hExQKZBq",
        "outputId": "9f8b0edb-e9f3-44be-ae48-ffdc4ce50571"
      },
      "execution_count": 4,
      "outputs": [
        {
          "output_type": "stream",
          "name": "stdout",
          "text": [
            "List with duplicates removed: [3, 2, 1, 4, 5, 6, 7]\n"
          ]
        }
      ]
    },
    {
      "cell_type": "markdown",
      "source": [
        "**34. Implement a function to find the longest common prefix among a list of strings.**"
      ],
      "metadata": {
        "id": "mPbPe8g3BruC"
      }
    },
    {
      "cell_type": "code",
      "source": [
        "def longest_common_prefix(strs):\n",
        "    if not strs:\n",
        "        return \"\"\n",
        "\n",
        "    shortest = min(strs, key=len)\n",
        "    for i, char in enumerate(shortest):\n",
        "        for string in strs:\n",
        "            if string[i] != char:\n",
        "                return shortest[:i]\n",
        "\n",
        "    return shortest\n"
      ],
      "metadata": {
        "id": "bJjV4yisKjei"
      },
      "execution_count": 5,
      "outputs": []
    },
    {
      "cell_type": "markdown",
      "source": [
        "**35. Write a program to check if a given number is a perfect square.**"
      ],
      "metadata": {
        "id": "PZbY53DzBrwR"
      }
    },
    {
      "cell_type": "code",
      "source": [
        "import math\n",
        "\n",
        "def is_perfect_square(number):\n",
        "    sqrt = math.isqrt(number)\n",
        "    return sqrt * sqrt == number\n",
        "\n",
        "# Example usage\n",
        "num = 16\n",
        "result = is_perfect_square(num)\n",
        "print(f\"{num} is a perfect square: {result}\")\n"
      ],
      "metadata": {
        "colab": {
          "base_uri": "https://localhost:8080/"
        },
        "id": "5jUaq33zK9_4",
        "outputId": "997a0b73-80c4-48c3-e696-4a4a7d1d3a11"
      },
      "execution_count": 6,
      "outputs": [
        {
          "output_type": "stream",
          "name": "stdout",
          "text": [
            "16 is a perfect square: True\n"
          ]
        }
      ]
    },
    {
      "cell_type": "markdown",
      "source": [
        "**36. Implement a function to calculate the product of all elements in a list.**"
      ],
      "metadata": {
        "id": "0IwwZAeOBrzU"
      }
    },
    {
      "cell_type": "code",
      "source": [
        "def calculate_product(numbers):\n",
        "    product = 1\n",
        "    for num in numbers:\n",
        "        product *= num\n",
        "    return product\n",
        "\n",
        "# Example usage\n",
        "my_list = [2, 3, 4, 5]\n",
        "result = calculate_product(my_list)\n",
        "print(\"Product of all elements:\", result)\n"
      ],
      "metadata": {
        "colab": {
          "base_uri": "https://localhost:8080/"
        },
        "id": "RpdtAUZOLN2l",
        "outputId": "6f283632-29ce-4bc9-843d-4f43840e0432"
      },
      "execution_count": 7,
      "outputs": [
        {
          "output_type": "stream",
          "name": "stdout",
          "text": [
            "Product of all elements: 120\n"
          ]
        }
      ]
    },
    {
      "cell_type": "markdown",
      "source": [
        "**37. Write a Python program to reverse the order of words in a sentence while preserving the word order.**"
      ],
      "metadata": {
        "id": "FPM7KPwbLYuu"
      }
    },
    {
      "cell_type": "code",
      "source": [
        "def reverse_sentence(sentence):\n",
        "    words = sentence.split()\n",
        "    reversed_words = words[::-1]\n",
        "    reversed_sentence = ' '.join(reversed_words)\n",
        "    return reversed_sentence\n",
        "\n",
        "# Example usage\n",
        "sentence = \"Hello, how are you?\"\n",
        "reversed_sentence = reverse_sentence(sentence)\n",
        "print(\"Reversed sentence:\", reversed_sentence)\n"
      ],
      "metadata": {
        "colab": {
          "base_uri": "https://localhost:8080/"
        },
        "id": "ENx8KtuSLmzA",
        "outputId": "5d05e75e-1929-4897-dacb-59dfaf8d5b17"
      },
      "execution_count": 8,
      "outputs": [
        {
          "output_type": "stream",
          "name": "stdout",
          "text": [
            "Reversed sentence: you? are how Hello,\n"
          ]
        }
      ]
    },
    {
      "cell_type": "markdown",
      "source": [
        "**38. Implement a function to find the missing number in a given list of consecutive numbers.**"
      ],
      "metadata": {
        "id": "DElLbzNsLYxx"
      }
    },
    {
      "cell_type": "code",
      "source": [
        "def find_missing_number(numbers):\n",
        "    n = len(numbers) + 1\n",
        "    expected_sum = (n * (n + 1)) // 2\n",
        "    actual_sum = sum(numbers)\n",
        "    missing_number = expected_sum - actual_sum\n",
        "    return missing_number\n"
      ],
      "metadata": {
        "id": "Z0uJLEiNMBYn"
      },
      "execution_count": 9,
      "outputs": []
    },
    {
      "cell_type": "markdown",
      "source": [
        "**39. Write a program to find the sum of digits of a given number.**"
      ],
      "metadata": {
        "id": "U2jzBAf-LY1B"
      }
    },
    {
      "cell_type": "code",
      "source": [
        "def sum_of_digits(number):\n",
        "    digit_sum = 0\n",
        "    while number > 0:\n",
        "        digit = number % 10\n",
        "        digit_sum += digit\n",
        "        number //= 10\n",
        "    return digit_sum\n",
        "\n",
        "# Example usage\n",
        "num = 12345\n",
        "result = sum_of_digits(num)\n",
        "print(\"Sum of digits:\", result)\n"
      ],
      "metadata": {
        "colab": {
          "base_uri": "https://localhost:8080/"
        },
        "id": "VQ3WlyqiMSKB",
        "outputId": "5ef8a70c-edae-4bda-b868-fd67749efaa4"
      },
      "execution_count": 10,
      "outputs": [
        {
          "output_type": "stream",
          "name": "stdout",
          "text": [
            "Sum of digits: 15\n"
          ]
        }
      ]
    },
    {
      "cell_type": "markdown",
      "source": [
        "**40. Implement a function to check if a given string is a valid palindrome considering case sensitivity.**"
      ],
      "metadata": {
        "id": "BfJ6HYs1LY3b"
      }
    },
    {
      "cell_type": "code",
      "source": [
        "def is_valid_palindrome(string):\n",
        "    reversed_string = string[::-1]\n",
        "    return string == reversed_string\n",
        "\n",
        "# Example usage\n",
        "word = \"level\"\n",
        "result = is_valid_palindrome(word)\n",
        "print(f\"Is {word} a valid palindrome? {result}\")\n"
      ],
      "metadata": {
        "colab": {
          "base_uri": "https://localhost:8080/"
        },
        "id": "bHFhswxkMg24",
        "outputId": "21cb7ce3-bb36-4198-857b-8ef98af84a82"
      },
      "execution_count": 11,
      "outputs": [
        {
          "output_type": "stream",
          "name": "stdout",
          "text": [
            "Is level a valid palindrome? True\n"
          ]
        }
      ]
    },
    {
      "cell_type": "markdown",
      "source": [
        "**41. Write a Python program to find the smallest missing positive integer in a list.**"
      ],
      "metadata": {
        "id": "TuEyMcqiLY4v"
      }
    },
    {
      "cell_type": "code",
      "source": [
        "def find_smallest_missing_positive(nums):\n",
        "    n = len(nums)\n",
        "\n",
        "    # Step 1: Transform the list to mark positive integers as seen\n",
        "    for i in range(n):\n",
        "        if nums[i] <= 0 or nums[i] > n:\n",
        "            nums[i] = n + 1\n",
        "\n",
        "    # Step 2: Marking the positive integers as seen\n",
        "    for i in range(n):\n",
        "        num = abs(nums[i])\n",
        "        if num <= n:\n",
        "            nums[num - 1] = -abs(nums[num - 1])\n",
        "\n",
        "    # Step 3: Find the smallest missing positive integer\n",
        "    for i in range(n):\n",
        "        if nums[i] > 0:\n",
        "            return i + 1\n",
        "\n",
        "    # If all positive integers are present, return the next positive integer\n",
        "    return n + 1\n",
        "\n",
        "my_list = [3, 1, -1, 5, 4]\n",
        "result = find_smallest_missing_positive(my_list)\n",
        "print(\"Smallest missing positive integer:\", result)\n"
      ],
      "metadata": {
        "colab": {
          "base_uri": "https://localhost:8080/"
        },
        "id": "sqvysT6pMwuP",
        "outputId": "821bdb8a-ae4e-4144-b425-8a7ad6415c5a"
      },
      "execution_count": 13,
      "outputs": [
        {
          "output_type": "stream",
          "name": "stdout",
          "text": [
            "Smallest missing positive integer: 2\n"
          ]
        }
      ]
    },
    {
      "cell_type": "markdown",
      "source": [
        "**42. Implement a function to find the longest palindrome substring in a given string.**"
      ],
      "metadata": {
        "id": "SzDeAG4RLY6D"
      }
    },
    {
      "cell_type": "code",
      "source": [
        "def longest_palindrome(s):\n",
        "    n = len(s)\n",
        "    dp = [[False] * n for _ in range(n)]\n",
        "    longest_palindrome = \"\"\n",
        "\n",
        "    # All individual characters are palindromes\n",
        "    for i in range(n):\n",
        "        dp[i][i] = True\n",
        "        longest_palindrome = s[i]\n",
        "\n",
        "    max_length = 1\n",
        "\n",
        "    # Check for palindromes of length 2\n",
        "    for i in range(n - 1):\n",
        "        if s[i] == s[i + 1]:\n",
        "            dp[i][i + 1] = True\n",
        "            longest_palindrome = s[i:i+2]\n",
        "            max_length = 2\n",
        "\n",
        "    # Check for palindromes of length greater than 2\n",
        "    for length in range(3, n + 1):\n",
        "        for i in range(n - length + 1):\n",
        "            j = i + length - 1\n",
        "\n",
        "            if s[i] == s[j] and dp[i + 1][j - 1]:\n",
        "                dp[i][j] = True\n",
        "                if length > max_length:\n",
        "                    longest_palindrome = s[i:j+1]\n",
        "                    max_length = length\n",
        "\n",
        "    return longest_palindrome\n",
        "\n",
        "# Example usage\n",
        "string = \"babad\"\n",
        "result = longest_palindrome(string)\n",
        "print(\"Longest palindrome substring:\", result)\n"
      ],
      "metadata": {
        "colab": {
          "base_uri": "https://localhost:8080/"
        },
        "id": "pzXUagQ8NHxH",
        "outputId": "2088c41b-f40d-4011-fe88-232c9f438c55"
      },
      "execution_count": 15,
      "outputs": [
        {
          "output_type": "stream",
          "name": "stdout",
          "text": [
            "Longest palindrome substring: bab\n"
          ]
        }
      ]
    },
    {
      "cell_type": "markdown",
      "source": [
        "**43. Write a program to find the number of occurrences of a given element in a list.**"
      ],
      "metadata": {
        "id": "GNZTXgD3LY7h"
      }
    },
    {
      "cell_type": "code",
      "source": [
        "def count_occurrences(lst, element):\n",
        "    count = 0\n",
        "    for item in lst:\n",
        "        if item == element:\n",
        "            count += 1\n",
        "    return count\n",
        "\n",
        "# Example usage\n",
        "my_list = [1, 2, 3, 2, 4, 2, 5, 2]\n",
        "element = 2\n",
        "occurrences = count_occurrences(my_list, element)\n",
        "print(f\"Number of occurrences of {element}: {occurrences}\")\n"
      ],
      "metadata": {
        "colab": {
          "base_uri": "https://localhost:8080/"
        },
        "id": "mGgiQ0iGNZpQ",
        "outputId": "7524ab62-94f2-4c53-8fbf-34fff0b54340"
      },
      "execution_count": 17,
      "outputs": [
        {
          "output_type": "stream",
          "name": "stdout",
          "text": [
            "Number of occurrences of 2: 4\n"
          ]
        }
      ]
    },
    {
      "cell_type": "markdown",
      "source": [
        "**44. Implement a function to check if a given number is a perfect number.**"
      ],
      "metadata": {
        "id": "tCk4_TdpLZP6"
      }
    },
    {
      "cell_type": "code",
      "source": [
        "def is_perfect_number(number):\n",
        "    if number <= 0:\n",
        "        return False\n",
        "\n",
        "    divisors = []\n",
        "    for i in range(1, number):\n",
        "        if number % i == 0:\n",
        "            divisors.append(i)\n",
        "\n",
        "    sum_of_divisors = sum(divisors)\n",
        "    return sum_of_divisors == number\n",
        "\n",
        "# Example usage\n",
        "num = 28\n",
        "result = is_perfect_number(num)\n",
        "print(f\"{num} is a perfect number: {result}\")\n"
      ],
      "metadata": {
        "colab": {
          "base_uri": "https://localhost:8080/"
        },
        "id": "V7jDZEouN3OU",
        "outputId": "fb013838-cbf7-46c4-8bf0-e31beb895cc6"
      },
      "execution_count": 18,
      "outputs": [
        {
          "output_type": "stream",
          "name": "stdout",
          "text": [
            "28 is a perfect number: True\n"
          ]
        }
      ]
    },
    {
      "cell_type": "markdown",
      "source": [
        "**45. Write a Python program to remove all duplicates from a string.**"
      ],
      "metadata": {
        "id": "Cywjh082LZSK"
      }
    },
    {
      "cell_type": "code",
      "source": [
        "def remove_duplicates(string):\n",
        "    seen = set()\n",
        "    result = ''\n",
        "    for char in string:\n",
        "        if char not in seen:\n",
        "            result += char\n",
        "            seen.add(char)\n",
        "    return result\n",
        "\n",
        "# Example usage\n",
        "my_string = \"Hello, World!\"\n",
        "result = remove_duplicates(my_string)\n",
        "print(\"String with duplicates removed:\", result)\n"
      ],
      "metadata": {
        "colab": {
          "base_uri": "https://localhost:8080/"
        },
        "id": "6DvvmKipObmu",
        "outputId": "737b78f9-b9f3-4700-ea9c-268ce3ea1b72"
      },
      "execution_count": 19,
      "outputs": [
        {
          "output_type": "stream",
          "name": "stdout",
          "text": [
            "String with duplicates removed: Helo, Wrd!\n"
          ]
        }
      ]
    },
    {
      "cell_type": "markdown",
      "source": [
        "**46. Implement a function to find the first missing positive**"
      ],
      "metadata": {
        "id": "RZlDFCTgOeq5"
      }
    },
    {
      "cell_type": "code",
      "source": [
        "def find_first_missing_positive(nums):\n",
        "    n = len(nums)\n",
        "\n",
        "    # Step 1: Move positive integers to their corresponding indices\n",
        "    for i in range(n):\n",
        "        while 1 <= nums[i] <= n and nums[i] != nums[nums[i] - 1]:\n",
        "            nums[nums[i] - 1], nums[i] = nums[i], nums[nums[i] - 1]\n",
        "\n",
        "    # Step 2: Find the first missing positive integer\n",
        "    for i in range(n):\n",
        "        if nums[i] != i + 1:\n",
        "            return i + 1\n",
        "\n",
        "    # If all positive integers are present, return the next positive integer\n",
        "    return n + 1\n",
        "\n",
        "my_list = [3, 4, -1, 1]\n",
        "result = find_first_missing_positive(my_list)\n",
        "print(\"First missing positive integer:\", result)\n"
      ],
      "metadata": {
        "colab": {
          "base_uri": "https://localhost:8080/"
        },
        "id": "36a9KJmoOmcT",
        "outputId": "b6b0c081-220f-4523-cbd1-46e14f856972"
      },
      "execution_count": 20,
      "outputs": [
        {
          "output_type": "stream",
          "name": "stdout",
          "text": [
            "First missing positive integer: 2\n"
          ]
        }
      ]
    }
  ]
}